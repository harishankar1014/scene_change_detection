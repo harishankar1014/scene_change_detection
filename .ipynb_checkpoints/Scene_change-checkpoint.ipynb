{
 "cells": [
  {
   "cell_type": "code",
   "execution_count": 1,
   "id": "15cbe9fd",
   "metadata": {},
   "outputs": [],
   "source": [
    "import numpy as np\n",
    "import cv2 as cv\n",
    "import math\n",
    "from matplotlib import pyplot as plt\n",
    "img_array = []\n",
    "for i in range(0,360,5):\n",
    "    img = cv.imread(r'C:\\Users\\Murali\\Desktop\\Mtech\\Sem2\\ComputerVision\\paper\\github\\scene_change_detection\\COIL\\coil-100\\coil-100\\obj1__'+str(i)+'.png')\n",
    "    mask = np.zeros(img.shape[:2],np.uint8)#GC_BGD,GC_FGD,GC_PR_BGD,GC_PR_FGD \n",
    "    bgdModel = np.zeros((1,65),np.float64)\n",
    "    fgdModel = np.zeros((1,65),np.float64)\n",
    "    rect = (0,40,470,300)\n",
    "    cv.grabCut(img,mask,rect,bgdModel,fgdModel,5,cv.GC_INIT_WITH_RECT)\n",
    "    mask2 = np.where((mask==2)|(mask==0),0,1).astype('uint8')\n",
    "    img = img*mask2[:,:,np.newaxis]\n",
    "    img_array.append(img)"
   ]
  },
  {
   "cell_type": "code",
   "execution_count": 51,
   "id": "5ad053c8",
   "metadata": {
    "scrolled": false
   },
   "outputs": [],
   "source": [
    "# for img in img_array:\n",
    "#     plt.imshow(img),plt.colorbar(),plt.show()"
   ]
  },
  {
   "cell_type": "code",
   "execution_count": 62,
   "id": "631f1c9e",
   "metadata": {},
   "outputs": [
    {
     "name": "stdout",
     "output_type": "stream",
     "text": [
      "Correlation coefficient: 0.9916134105566787\n"
     ]
    }
   ],
   "source": [
    "im1 = img_array[0]\n",
    "im2 = img_array[1]\n",
    "\n",
    "im1_gray = cv.cvtColor(im1,cv.COLOR_BGR2GRAY)\n",
    "im2_gray = cv.cvtColor(im2,cv.COLOR_BGR2GRAY)\n",
    "\n",
    "sz = im1.shape\n",
    "\n",
    "# warp_mode = cv.MOTION_HOMOGRAPHY\n",
    "warp_mode = cv.MOTION_EUCLIDEAN\n",
    "\n",
    "if warp_mode == cv.MOTION_HOMOGRAPHY :\n",
    "    warp_matrix = np.eye(3, 3, dtype=np.float32)\n",
    "else:\n",
    "    warp_matrix = np.eye(2, 3, dtype=np.float32)\n",
    "    \n",
    "number_of_iterations = 5000;\n",
    "\n",
    "termination_eps = 1e-10;\n",
    "\n",
    "criteria = (cv.TERM_CRITERIA_EPS | cv.TERM_CRITERIA_COUNT, number_of_iterations,  termination_eps)\n",
    "\n",
    "(cc, warp_matrix) = cv.findTransformECC (im1_gray,im2_gray,warp_matrix, warp_mode, criteria)\n",
    " \n",
    "if warp_mode == cv.MOTION_HOMOGRAPHY :\n",
    "    im2_aligned = cv.warpPerspective(im2, warp_matrix, (sz[1],sz[0]), flags=cv.INTER_LINEAR + cv.WARP_INVERSE_MAP)\n",
    "else:\n",
    "#     im2_aligned = cv.warpAffine(im2, warp_matrix, (sz[1],sz[0]))\n",
    "    im2_aligned = cv.warpAffine(im2, warp_matrix, (sz[1],sz[0]), flags=cv.INTER_LINEAR + cv.WARP_INVERSE_MAP)\n",
    "\n",
    "print(\"Correlation coefficient:\",cc)    \n",
    "    \n",
    "# cv.imshow(\"Image 1\", im1)\n",
    "# cv.imshow(\"Image 2\", im2)\n",
    "# cv.imshow(\"Aligned Image 2\", im2_aligned)\n",
    "# cv.waitKey(0)\n",
    "# print(im2_aligned)"
   ]
  },
  {
   "cell_type": "code",
   "execution_count": 64,
   "id": "37cc4954",
   "metadata": {},
   "outputs": [],
   "source": [
    "im1_gray = cv.cvtColor(im1,cv.COLOR_BGR2GRAY)\n",
    "im2_aligned_gray = cv.cvtColor(im2_aligned,cv.COLOR_BGR2GRAY)"
   ]
  },
  {
   "cell_type": "code",
   "execution_count": 65,
   "id": "0294d127",
   "metadata": {},
   "outputs": [],
   "source": [
    "row = im1.shape[0]\n",
    "col = im1.shape[1]\n",
    "\n",
    "tiles1 = []\n",
    "tiles2 = []\n",
    "block_size = 32\n",
    "for y in range(0, row, block_size):\n",
    "    for x in range(0, col, block_size):\n",
    "        tiles1.append(im1_gray[x:x+block_size,y:y+block_size])\n",
    "        tiles2.append(im2_aligned_gray[x:x+block_size,y:y+block_size])"
   ]
  },
  {
   "cell_type": "code",
   "execution_count": 66,
   "id": "7f44ed43",
   "metadata": {},
   "outputs": [],
   "source": [
    "import pywt\n",
    "dwt_img1 = []\n",
    "dwt_aligned = []\n",
    "for i in range(len(tiles1)):\n",
    "    (cA,(cH,cV,cD)) = pywt.dwt2(tiles1[i], 'haar')\n",
    "    dwt_img1.append([np.array(cA),np.array(cH),np.array(cV),np.array(cD)])\n",
    "    (cA1,(cH1,cV1,cD1)) = pywt.dwt2(tiles2[i], 'haar')\n",
    "    dwt_aligned.append([np.array(cA1),np.array(cH1),np.array(cV1),np.array(cD1)])\n",
    "        \n",
    "# print(\"Approximation coefficients:\\n\", cA)\n",
    "# print(\"Horizontal detail coefficients:\\n\", cH)\n",
    "# print(\"Vertical detail coefficients:\\n\", cV)\n",
    "# print(\"Diagonal detail coefficients:\\n\", cD)"
   ]
  },
  {
   "cell_type": "code",
   "execution_count": 67,
   "id": "9949bca5",
   "metadata": {},
   "outputs": [],
   "source": [
    "dwt_img1 = np.array(dwt_img1)\n",
    "dwt_aligned = np.array(dwt_aligned)"
   ]
  },
  {
   "cell_type": "code",
   "execution_count": 68,
   "id": "9db2cd44",
   "metadata": {},
   "outputs": [],
   "source": [
    "def pcc(cAA,cHA,cVA,cDA,cAR,cHR,cVR,cDR):\n",
    "#     numerator  = (4*(np.dot(cAA,cAR)+np.dot(cHA,cHR)+np.dot(cVA,cVR)+np.dot(cDA,cDR))) - np.dot((cAA+cHA+cVA+cDA),(cAR+cHR+cVR+cDR))\n",
    "#     denominator =(4*(np.dot(cAA,cAA)+np.dot(cHA,cHA)+np.dot(cVA,cVA)+np.dot(cDA,cDA)))*(4*(np.dot((cAA+cHA+cVA+cDA),(cAA+cHA+cVA+cDA)))*(np.dot((cAR+cHR+cVR+cDR),(cAR+cHR+cVR+cDR))))\n",
    "#     numerator = (4*((cAA*cAR)+(cHA*cHR)+(cVA*cVR)+(cDA*cDR)))-((cAA+cHA+cVA+cDA)*(cAR+cHR+cVR+cDR))\n",
    "#     denominator = math.sqrt(abs(((4*((cAA*cAA)+(cHA*cHA)+(cVA*cVA)+(cDA*cDA)))-(cAA+cHA+cVA+cDA)**2)-((4*((cAR*cAR)+(cHR*cHR)+(cVR*cVR)+(cDR*cDR)))-(cAR+cHR+cVR+cDR)**2)))\n",
    "#     r = (numerator/denominator)\n",
    "#     print(denominator)\n",
    "    pcc = np.corrcoef(np.concatenate((cAA.flatten(), cHA.flatten(), cVA.flatten(), cDA.flatten())),np.concatenate((cAR.flatten(), cHR.flatten(), cVR.flatten(), cDR.flatten())))[0, 1]\n",
    "#     return pcc\n",
    "    return pcc"
   ]
  },
  {
   "cell_type": "code",
   "execution_count": 58,
   "id": "98ead735",
   "metadata": {},
   "outputs": [
    {
     "data": {
      "text/plain": [
       "1024"
      ]
     },
     "execution_count": 58,
     "metadata": {},
     "output_type": "execute_result"
    }
   ],
   "source": [
    "# (dwt_img1[0].flatten() == dwt_img1[8].flatten()).sum()\n",
    "# 4*16*16*16 = 16384"
   ]
  },
  {
   "cell_type": "code",
   "execution_count": 69,
   "id": "7575cf94",
   "metadata": {},
   "outputs": [],
   "source": [
    "def pcc_single(cA,cR):\n",
    "    pcc = np.corrcoef(cA.flatten(),cR.flatten())[0,1]\n",
    "    return pcc"
   ]
  },
  {
   "cell_type": "code",
   "execution_count": 70,
   "id": "7d5cbcd4",
   "metadata": {},
   "outputs": [
    {
     "name": "stdout",
     "output_type": "stream",
     "text": [
      "This is the pcc result\n"
     ]
    },
    {
     "data": {
      "text/plain": [
       "[1,\n",
       " 0.811296650374123,\n",
       " 0.9077495437054521,\n",
       " 1,\n",
       " 1,\n",
       " 0.9368253364400715,\n",
       " 0.9714101994756699,\n",
       " 1,\n",
       " 1,\n",
       " 0.9515091583799375,\n",
       " 0.9863821476802892,\n",
       " 1,\n",
       " 1,\n",
       " 0.8514625318405318,\n",
       " 0.9604083859201159,\n",
       " 1]"
      ]
     },
     "execution_count": 70,
     "metadata": {},
     "output_type": "execute_result"
    }
   ],
   "source": [
    "pcc_result = []\n",
    "for i in range(len(dwt_aligned)):\n",
    "#     result = pcc(dwt_img1[i][0].mean(),dwt_img1[i][1].mean(),dwt_img1[i][2].mean(),dwt_img1[i][3].mean(),dwt_aligned[i][0].mean(),dwt_aligned[i][1].mean(),dwt_aligned[i][2].mean(),dwt_aligned[i][3].mean())\n",
    "#     print(result)\n",
    "#     print(dwt_aligned[i][0].mean())\n",
    "#     resultA = pcc_single(dwt_img1[i][0],dwt_aligned[i][0])\n",
    "#     resultH = pcc_single(dwt_img1[i][1],dwt_aligned[i][1])\n",
    "#     resultV = pcc_single(dwt_img1[i][2],dwt_aligned[i][1])\n",
    "#     resultD = pcc_single(dwt_img1[i][3],dwt_aligned[i][1])\n",
    "#     result = (resultA+resultH+resultV+resultD)/4\n",
    "    result = pcc(dwt_img1[i][0],dwt_img1[i][1],dwt_img1[i][2],dwt_img1[i][3],dwt_aligned[i][0],dwt_aligned[i][1],dwt_aligned[i][2],dwt_aligned[i][3])\n",
    "    pcc_result.append(result)\n",
    "    \n",
    "print(\"This is the pcc result\")\n",
    "pcc_result = [1 if math.isnan(x) else x for x in pcc_result]\n",
    "pcc_result"
   ]
  },
  {
   "cell_type": "code",
   "execution_count": 46,
   "id": "0572823f",
   "metadata": {},
   "outputs": [
    {
     "data": {
      "text/plain": [
       "array([0, 1, 1, 0, 0, 0, 0, 0, 0, 0, 0, 0, 0, 1, 0, 0])"
      ]
     },
     "execution_count": 46,
     "metadata": {},
     "output_type": "execute_result"
    }
   ],
   "source": [
    "theta = 0.80\n",
    "change = np.array([0 if x > theta else 1 for x in pcc_result])\n",
    "change"
   ]
  },
  {
   "cell_type": "code",
   "execution_count": 47,
   "id": "599939e1",
   "metadata": {},
   "outputs": [],
   "source": [
    "for i in range(0,len(change)):\n",
    "    tiles1[i] = tiles1[i]*change[i]\n",
    "    tiles2[i] = tiles2[i]*change[i]"
   ]
  },
  {
   "cell_type": "code",
   "execution_count": 48,
   "id": "156a4fb8",
   "metadata": {},
   "outputs": [
    {
     "data": {
      "image/png": "[encoded data removed]",
      "text/plain": [
       "<Figure size 864x216 with 1 Axes>"
      ]
     },
     "metadata": {
      "needs_background": "light"
     },
     "output_type": "display_data"
    },
    {
     "data": {
      "image/png": "[encoded data removed]",
      "text/plain": [
       "<Figure size 864x216 with 1 Axes>"
      ]
     },
     "metadata": {
      "needs_background": "light"
     },
     "output_type": "display_data"
    },
    {
     "data": {
      "image/png": "[encoded data removed]",
      "text/plain": [
       "<Figure size 864x216 with 1 Axes>"
      ]
     },
     "metadata": {
      "needs_background": "light"
     },
     "output_type": "display_data"
    },
    {
     "data": {
      "image/png": "[encoded data removed]",
      "text/plain": [
       "<Figure size 864x216 with 1 Axes>"
      ]
     },
     "metadata": {
      "needs_background": "light"
     },
     "output_type": "display_data"
    },
    {
     "data": {
      "image/png": "[encoded data removed]",
      "text/plain": [
       "<Figure size 864x216 with 1 Axes>"
      ]
     },
     "metadata": {
      "needs_background": "light"
     },
     "output_type": "display_data"
    },
    {
     "data": {
      "image/png": "[encoded data removed]",
      "text/plain": [
       "<Figure size 864x216 with 1 Axes>"
      ]
     },
     "metadata": {
      "needs_background": "light"
     },
     "output_type": "display_data"
    },
    {
     "data": {
      "image/png": "[encoded data removed]",
      "text/plain": [
       "<Figure size 864x216 with 1 Axes>"
      ]
     },
     "metadata": {
      "needs_background": "light"
     },
     "output_type": "display_data"
    },
    {
     "data": {
      "image/png": "[encoded data removed]",
      "text/plain": [
       "<Figure size 864x216 with 1 Axes>"
      ]
     },
     "metadata": {
      "needs_background": "light"
     },
     "output_type": "display_data"
    },
    {
     "data": {
      "image/png": "[encoded data removed]",
      "text/plain": [
       "<Figure size 864x216 with 1 Axes>"
      ]
     },
     "metadata": {
      "needs_background": "light"
     },
     "output_type": "display_data"
    },
    {
     "data": {
      "image/png": "[encoded data removed]",
      "text/plain": [
       "<Figure size 864x216 with 1 Axes>"
      ]
     },
     "metadata": {
      "needs_background": "light"
     },
     "output_type": "display_data"
    },
    {
     "data": {
      "image/png": "[encoded data removed]",
      "text/plain": [
       "<Figure size 864x216 with 1 Axes>"
      ]
     },
     "metadata": {
      "needs_background": "light"
     },
     "output_type": "display_data"
    },
    {
     "data": {
      "image/png": "[encoded data removed]",
      "text/plain": [
       "<Figure size 864x216 with 1 Axes>"
      ]
     },
     "metadata": {
      "needs_background": "light"
     },
     "output_type": "display_data"
    },
    {
     "data": {
      "image/png": "[encoded data removed]",
      "text/plain": [
       "<Figure size 864x216 with 1 Axes>"
      ]
     },
     "metadata": {
      "needs_background": "light"
     },
     "output_type": "display_data"
    },
    {
     "data": {
      "image/png": "[encoded data removed]",
      "text/plain": [
       "<Figure size 864x216 with 1 Axes>"
      ]
     },
     "metadata": {
      "needs_background": "light"
     },
     "output_type": "display_data"
    },
    {
     "data": {
      "image/png": "[encoded data removed]",
      "text/plain": [
       "<Figure size 864x216 with 1 Axes>"
      ]
     },
     "metadata": {
      "needs_background": "light"
     },
     "output_type": "display_data"
    },
    {
     "data": {
      "image/png": "[encoded data removed]",
      "text/plain": [
       "<Figure size 864x216 with 1 Axes>"
      ]
     },
     "metadata": {
      "needs_background": "light"
     },
     "output_type": "display_data"
    }
   ],
   "source": [
    "for i in range(0,len(tiles1)):\n",
    "    fig = plt.figure(figsize=(12, 3))\n",
    "    plt.imshow(tiles1[i])\n",
    "    plt.title(\"Block \"+str(i))\n",
    "    plt.axis('off')"
   ]
  }
 ],
 "metadata": {
  "kernelspec": {
   "display_name": "Python 3 (ipykernel)",
   "language": "python",
   "name": "python3"
  },
  "language_info": {
   "codemirror_mode": {
    "name": "ipython",
    "version": 3
   },
   "file_extension": ".py",
   "mimetype": "text/x-python",
   "name": "python",
   "nbconvert_exporter": "python",
   "pygments_lexer": "ipython3",
   "version": "3.10.4"
  }
 },
 "nbformat": 4,
 "nbformat_minor": 5
}
